{
 "cells": [
  {
   "cell_type": "code",
   "execution_count": 1,
   "metadata": {},
   "outputs": [],
   "source": [
    "import numpy as np\n",
    "import pandas as pd"
   ]
  },
  {
   "cell_type": "code",
   "execution_count": 2,
   "metadata": {},
   "outputs": [],
   "source": [
    "path = r\"D:\\download\\gps_example.csv\"\n",
    "def add_random_error(lat, n, pos_error, neg_error):\n",
    "    for i in range(n):\n",
    "        pos = np.random.randint(len(lat))\n",
    "        if np.random.rand() < 0.5:\n",
    "            lat[pos] = lat[pos] + pos_error\n",
    "        elif lat[pos] > neg_error:\n",
    "            lat[pos] = lat[pos] - neg_error\n",
    "        else:\n",
    "            lat[pos] = 0\n",
    "    return(lat)\n",
    "gps_example = pd.read_csv(path, sep = \",\")\n",
    "lat = gps_example.iloc[:,1].copy()"
   ]
  },
  {
   "cell_type": "code",
   "execution_count": 3,
   "metadata": {},
   "outputs": [],
   "source": [
    "# 测试模型效果，加上随机误差\n",
    "lat = add_random_error(lat, 10, np.random.rand()/500, np.random.rand()/500)"
   ]
  },
  {
   "cell_type": "code",
   "execution_count": 4,
   "metadata": {},
   "outputs": [],
   "source": [
    "def particle_filter_lat(lat):\n",
    "    lat = lat * 100000\n",
    "    x_N = 30 # 系统过程噪声的协方差，由于是一维的,这里就是方差，适用于速度滤波\n",
    "    x_R = 20 # 测量的协方差，适用于速度滤波\n",
    "    T = len(lat)\n",
    "    N = 100 # 粒子数，越大效果越好，计算量也越大\n",
    "    V = 20   #初始分布的方差\n",
    "    x = lat[0] # 初始值\n",
    "    x_P = [] #粒子群\n",
    "    # 用一个高斯分布随机的产生初始的粒子\n",
    "    x_P = [(x + np.sqrt(V) * np.random.randn()) for i in range(N)]\n",
    "    z_out = [x + np.sqrt(x_R) * np.random.randn()]  #实际测量值\n",
    "    x_out = [x]  # 测量值\n",
    "    x_est = x # 单步的particle filters估计值    \n",
    "    x_est_out = [x_est/100000] # particle filters估计值list\n",
    "    cnt = 0\n",
    "    for t in range(1, T):\n",
    "        P_w = []\n",
    "        x_P_update = []\n",
    "        z_update = []\n",
    "        # 状态值含误差\n",
    "        x = lat[t] # 转移方程，直接用下一步的测量值作为转移方程+误差得到的值\n",
    "        # 观察值含误差\n",
    "        z = x + np.sqrt(x_R)*np.random.randn()\n",
    "        for i in range(N):\n",
    "            # 从先验p(x(k)|x(k-1))中采样\n",
    "            x_P_update.append(x_P[i] + np.sqrt(x_N)*np.random.randn())\n",
    "            # 计算采样粒子的值，为后面根据似然去计算权重做铺垫    \n",
    "            z_update.append(x_P_update[i])\n",
    "            # 对每个粒子计算其权重，这里假设量测噪声是高斯分布。所以 w = p(y|x)对应下面的计算公式    \n",
    "            P_w.append((1/np.sqrt(2*np.pi*x_R)) * np.exp(-(z - z_update[i])**2/(2*x_R)))\n",
    "        # 归一化.\n",
    "        if np.sum(P_w) == 0:\n",
    "            x_est_out.append(x_est)\n",
    "        else:\n",
    "            P_w = P_w/np.sum(P_w)\n",
    "            # Resampling这里没有用博客里之前说的histc函数，不过目的和效果是一样的，重采样\n",
    "            P_w_sum = np.cumsum(P_w)\n",
    "            for i in range(N):\n",
    "                index0 = np.where(np.random.random() < P_w_sum)\n",
    "                x_P[i] = x_P_update[index0[0][0]] # 粒子权重大的将多得到后代  # find( ,1) 返回第一个 符合前面条件的数的 下标\n",
    "            # 状态估计，重采样以后，每个粒子的权重都变成了1/N\n",
    "            x_est = np.mean(x_P)\n",
    "            if x_est < 0:\n",
    "                x_est = 0 \n",
    "            # Save data in arrays for later plotting    \n",
    "            if np.abs(x-x_est) <= 30:\n",
    "                x_est = 0.8*x + 0.2*x_est\n",
    "            else:\n",
    "                cnt = cnt + 1\n",
    "            x_est=x_est/100000\n",
    "            x_est_out.append(x_est)\n",
    "    return x_est_out,cnt/len(lat)"
   ]
  },
  {
   "cell_type": "code",
   "execution_count": null,
   "metadata": {},
   "outputs": [],
   "source": [
    "import matplotlib.pyplot as plt\n",
    "t = [i for i in range(len(lat))]\n",
    "x_est_out,_ = particle_filter_lat(lat)\n",
    "plt.figure(figsize=(16,24), facecolor = \"white\")\n",
    "# for i in range(4):\n",
    "#     plt.subplot(411+i)\n",
    "#     start=i*500\n",
    "#     plt.plot(t[start:start+500], lat[start:start+500], linestyle=\"-\", linewidth=2, label='origin')\n",
    "#     plt.plot(t[start:start+500], x_est_out[start:start+500], linestyle=\"-.\", linewidth=2, label='filter')\n",
    "#     plt.xlabel(\"x\")\n",
    "#     plt.ylabel(\"y\")\n",
    "#     plt.ylim(min(lat[start:start+500])-0.001, max(lat[start:start+500])+0.001)\n",
    "#     plt.legend()\n",
    "# plt.show()\n",
    "start=1300\n",
    "plt.plot(t[start:start+500], lat[start:start+500], linestyle=\"-\", linewidth=2, label='origin')\n",
    "plt.show()"
   ]
  }
 ],
 "metadata": {
  "kernelspec": {
   "display_name": "Python 3",
   "language": "python",
   "name": "python3"
  },
  "language_info": {
   "codemirror_mode": {
    "name": "ipython",
    "version": 3
   },
   "file_extension": ".py",
   "mimetype": "text/x-python",
   "name": "python",
   "nbconvert_exporter": "python",
   "pygments_lexer": "ipython3",
   "version": "3.6.1"
  }
 },
 "nbformat": 4,
 "nbformat_minor": 2
}
